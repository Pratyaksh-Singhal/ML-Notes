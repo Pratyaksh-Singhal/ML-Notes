{
 "cells": [
  {
   "cell_type": "markdown",
   "id": "e0a43cba",
   "metadata": {},
   "source": [
    "## Data Structures\n",
    "\n",
    "- List: Ordered, mutable\n",
    "- Tuple: Ordered, immutable\n",
    "- Set: Unordered, unique elements\n",
    "- Dictionary: Key-value pairs"
   ]
  },
  {
   "cell_type": "code",
   "execution_count": null,
   "id": "a1545be3",
   "metadata": {},
   "outputs": [],
   "source": [
    "# List \n",
    "\n",
    "a=[1,2,3,4,5,6]\n",
    "name = ['Sam','Ram','Tom','Sunny']\n",
    "mix = ['krish','Pratyaksh',1,5.9,True]\n",
    "name2 = ['Sam','Ram','Tom','Sunny']\n",
    "\n",
    "type(a)\n",
    "\n",
    "#Accessing the list elements\n",
    "\n",
    "print(a)\n",
    "print(name)\n",
    "print(mix)\n",
    "print(a[2])\n",
    "print(a[1:3])\n",
    "print(name[-1])\n",
    "print(mix[1:])\n",
    "print(name[:3])"
   ]
  },
  {
   "cell_type": "code",
   "execution_count": null,
   "id": "04e4f3a6",
   "metadata": {},
   "outputs": [],
   "source": [
    "#Modifing the elements\n",
    "\n",
    "a[1]=7\n",
    "name[2]='Soham'\n",
    "name2[1:]=\"Pratyaksh\""
   ]
  },
  {
   "cell_type": "code",
   "execution_count": null,
   "id": "83614fb1",
   "metadata": {},
   "outputs": [],
   "source": [
    "#List Methods\n",
    "\n",
    "a.append(9)\n",
    "a.insert(1,7)\n",
    "name.insert(2,\"Jai\")\n",
    "name.remove(\"sam\")\n",
    "\n",
    "x = a.pop()\n",
    "print(x)\n",
    "print(a)\n",
    "\n",
    "a.sort()\n",
    "print(a)\n",
    "\n",
    "a.reverse\n",
    "print(a)"
   ]
  },
  {
   "cell_type": "code",
   "execution_count": null,
   "id": "77f6d7f5",
   "metadata": {},
   "outputs": [],
   "source": [
    "num = [1, 2, 3, 4, 5, 6, 7, 8, 9, 10]\n",
    "\n",
    "for number in num:\n",
    "    print(number)"
   ]
  }
 ],
 "metadata": {
  "language_info": {
   "name": "python"
  }
 },
 "nbformat": 4,
 "nbformat_minor": 5
}
