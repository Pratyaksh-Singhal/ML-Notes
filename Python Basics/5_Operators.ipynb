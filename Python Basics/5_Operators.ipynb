{
 "cells": [
  {
   "cell_type": "markdown",
   "id": "dbe4c6cc",
   "metadata": {},
   "source": [
    "#### Operators in Python\n",
    "\n",
    "- Addition (+)\n",
    "- Subtraction (-)\n",
    "- Multiplication (*)\n",
    "- Division (/)\n",
    "- Remainder / Modulus (%)\n",
    "- Integer Division / Floor Division (//)\n",
    "- Expotent (**)"
   ]
  },
  {
   "cell_type": "code",
   "execution_count": null,
   "id": "6cf6fae1",
   "metadata": {},
   "outputs": [],
   "source": [
    "# Arithmetic Operators\n",
    "\n",
    "a = 10\n",
    "b = 3\n",
    "\n",
    "print(a + b)   # Addition: 13\n",
    "print(a - b)   # Subtraction: 7\n",
    "print(a * b)   # Multiplication: 30\n",
    "print(a / b)   # Division: 3.333...\n",
    "print(a % b)   # Modulus: 1\n",
    "print(a ** b)  # Exponentiation: 1000\n",
    "print(a // b)  # Floor division: 3"
   ]
  },
  {
   "cell_type": "code",
   "execution_count": null,
   "id": "59dcf691",
   "metadata": {},
   "outputs": [],
   "source": [
    "# Assigment Operators\n",
    "\n",
    "x = 5\n",
    "x += 3   # x = x + 3 → 8\n",
    "x -= 2   # x = x - 2 → 6\n",
    "x *= 2   # x = x * 2 → 12\n",
    "x /= 3   # x = x / 3 → 4.0\n",
    "x %= 2   # x = x % 2 → 0.0\n",
    "x **= 2  # x = x ** 2 → 0.0\n",
    "x //= 2  # x = x // 2 → 0.0"
   ]
  },
  {
   "cell_type": "code",
   "execution_count": null,
   "id": "7fed5f42",
   "metadata": {},
   "outputs": [],
   "source": [
    "# Comparison Operators\n",
    "\n",
    "a = 5\n",
    "b = 10\n",
    "\n",
    "print(a == b)  # False\n",
    "print(a != b)  # True\n",
    "print(a > b)   # False\n",
    "print(a < b)   # True\n",
    "print(a >= b)  # False\n",
    "print(a <= b)  # True\n"
   ]
  },
  {
   "cell_type": "markdown",
   "id": "116d9bf5",
   "metadata": {},
   "source": [
    "#### Logical Operators\n",
    "\n",
    "- True\n",
    "- False"
   ]
  },
  {
   "cell_type": "code",
   "execution_count": null,
   "id": "faad1d24",
   "metadata": {},
   "outputs": [],
   "source": [
    "#Logical Operators\n",
    "\n",
    "x = 10\n",
    "print(x > 5 and x < 15)   # True\n",
    "print(x > 15 or x == 10)  # True\n",
    "print(not(x > 5))         # False"
   ]
  },
  {
   "cell_type": "markdown",
   "id": "4ea0c907",
   "metadata": {},
   "source": [
    "#### Bitwise Operators\n",
    "\n",
    "- AND (&)\n",
    "- OR (|)\n",
    "- XOR (^)\n",
    "- NOT (~)\n",
    "- Left Shift   (<<)\n",
    "- Right Shift (>>)"
   ]
  },
  {
   "cell_type": "code",
   "execution_count": null,
   "id": "ce0250b0",
   "metadata": {},
   "outputs": [],
   "source": [
    "# Bitwise Operators\n",
    "\n",
    "a = 5    # 0101\n",
    "b = 3    # 0011\n",
    "\n",
    "print(a & b)   # AND → 0001 → 1\n",
    "print(a | b)   # OR  → 0111 → 7\n",
    "print(a ^ b)   # XOR → 0110 → 6\n",
    "print(~a)      # NOT → -(a+1) → -6\n",
    "print(a << 1)  # Left shift → 1010 → 10\n",
    "print(a >> 1)  # Right shift → 0010 → 2"
   ]
  },
  {
   "cell_type": "code",
   "execution_count": null,
   "id": "c947736e",
   "metadata": {},
   "outputs": [],
   "source": []
  }
 ],
 "metadata": {
  "language_info": {
   "name": "python"
  }
 },
 "nbformat": 4,
 "nbformat_minor": 5
}
