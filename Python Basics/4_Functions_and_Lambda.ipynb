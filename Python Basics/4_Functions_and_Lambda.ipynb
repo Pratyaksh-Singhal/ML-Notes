{
 "cells": [
  {
   "cell_type": "markdown",
   "id": "16d3bd7d",
   "metadata": {},
   "source": [
    "#### Funtions and Lambda Funtion\n",
    "Function is a block of organized, reusable code that performs a specific task. It only runs when it is called. 'def' keyword is used to initialising before the funtion name. \n",
    "\n",
    "Python Lambda Functions are anonymous functions means that the function is without a name. They are typically used for short, one-time operations where a full function definition with def would be overkill.\n",
    "\n",
    "Syntax: lambda arguments : expression\n",
    "\n",
    "- lambda: The keyword to define the function.\n",
    "- arguments: A comma-separated list of input parameters (like in a regular function).\n",
    "- expression: A single expression that is evaluated and returned."
   ]
  },
  {
   "cell_type": "code",
   "execution_count": null,
   "id": "a6aec1ce",
   "metadata": {},
   "outputs": [],
   "source": [
    "# def function example\n",
    "def greet(name):\n",
    "    return f\"Hello, {name}!\"\n",
    "\n",
    "print(greet(\"Alice\"))\n",
    "\n",
    "# Lambda example - 1\n",
    "square = lambda x: x ** 2\n",
    "print(square(5))\n",
    "\n",
    "# Lambda example - 2\n",
    "n = lambda x: \"Positive\" if x > 0 else \"Negative\" if x < 0 else \"Zero\"\n",
    "print(n(5))   \n",
    "print(n(-3))  \n",
    "print(n(0))"
   ]
  }
 ],
 "metadata": {
  "language_info": {
   "name": "python"
  }
 },
 "nbformat": 4,
 "nbformat_minor": 5
}
