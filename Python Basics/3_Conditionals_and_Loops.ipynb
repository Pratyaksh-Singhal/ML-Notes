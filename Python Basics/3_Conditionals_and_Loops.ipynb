{
 "cells": [
  {
   "cell_type": "markdown",
   "id": "b7226037",
   "metadata": {},
   "source": [
    "### Conditionals and Loops\n",
    "\n",
    "##### If-Else Conditions:\n",
    "The if-else statement in Python is a conditional statement that allows you to execute different blocks of code based on whether a condition is true or false.\n",
    "\n",
    "##### Loops\n",
    "- `for` loop\n",
    "- `while` loop"
   ]
  },
  {
   "cell_type": "code",
   "execution_count": null,
   "id": "63894310",
   "metadata": {},
   "outputs": [],
   "source": [
    "age = 20                                                # if else condition        \n",
    "if age >= 18:\n",
    "    print(\"Adult\")\n",
    "else:\n",
    "    print(\"Minor\")\n",
    "\n",
    "\n",
    "\n",
    "for i in range(5):                                      # For loop\n",
    "    print(\"For loop iteration:\", i)\n",
    "\n",
    "    \n",
    "\n",
    "count = 0\n",
    "while count < 3:                                        # While loop                 \n",
    "    print(\"While loop iteration:\", count)\n",
    "    count += 1"
   ]
  }
 ],
 "metadata": {
  "language_info": {
   "name": "python"
  }
 },
 "nbformat": 4,
 "nbformat_minor": 5
}
