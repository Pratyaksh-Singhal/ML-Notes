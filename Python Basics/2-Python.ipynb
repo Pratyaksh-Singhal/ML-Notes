{
 "cells": [
  {
   "cell_type": "markdown",
   "id": "d0b9c19f",
   "metadata": {},
   "source": [
    "#### What are variables and Naming conventions? Basic data types (int, float, str, bool).\n",
    "Variables are used to store data that can be referenced and manipulated during program execution.\n",
    "\n",
    "Naming conventions in Python refer to rules and guidelines for naming variables, functions, classes, and other entities in your code.\n",
    "Modules in Python are files containing Python definitions and statements. When naming a module, use lowercase letters and underscores. \n",
    "Globals variable should be in uppercase with underscores separating words, while locals variable should follow the same convention as functions.\n",
    "Classes in Python names should follow the CapWords (or CamelCase) convention.\n",
    "\n"
   ]
  },
  {
   "cell_type": "code",
   "execution_count": null,
   "id": "49b09848",
   "metadata": {},
   "outputs": [],
   "source": [
    "# Variable examples\n",
    "x = 10         # integer\n",
    "pi = 3.14      # float\n",
    "name = \"AI\"    # string\n",
    "is_valid = True  # boolean\n",
    "\n",
    "def add_numbers(a, b):              #Modules Convention\n",
    "    result = a + b\n",
    "    print(f\"The sum is: {result}\")\n",
    "    return result\n",
    "\n",
    "\n",
    "GLOBAL_VARIABLE = 10            # Variable Convention\n",
    "def example_function():\n",
    "    local_variable = 5\n",
    "\n",
    "\n",
    "class Car:                                      #Class Convention\n",
    "    def __init__(self, make, model):\n",
    "        self.make = make\n",
    "        self.model = model\n",
    "\n",
    "    def display_info(self):\n",
    "        print(f\"{self.make} {self.model}\")"
   ]
  },
  {
   "cell_type": "markdown",
   "id": "f0b9f659",
   "metadata": {},
   "source": [
    "#### Type conversion\n",
    "\n",
    "Type Casting is the method to convert the Python variable datatype into a certain data type in order to perform the required operation by users."
   ]
  },
  {
   "cell_type": "code",
   "execution_count": null,
   "id": "625a6eee",
   "metadata": {},
   "outputs": [],
   "source": [
    "# Type checking\n",
    "print(type(x), type(name), type(is_valid))\n",
    "\n",
    "# Type casting\n",
    "a = float(x)\n",
    "print(a)"
   ]
  }
 ],
 "metadata": {
  "language_info": {
   "name": "python"
  }
 },
 "nbformat": 4,
 "nbformat_minor": 5
}
