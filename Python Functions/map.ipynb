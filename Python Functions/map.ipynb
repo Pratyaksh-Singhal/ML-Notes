{
 "cells": [
  {
   "cell_type": "markdown",
   "id": "cb70bcf5",
   "metadata": {},
   "source": [
    "### Map Funtion"
   ]
  },
  {
   "cell_type": "code",
   "execution_count": 1,
   "id": "1889e235",
   "metadata": {},
   "outputs": [],
   "source": [
    "def sqaure(num):\n",
    "    return num*num"
   ]
  },
  {
   "cell_type": "code",
   "execution_count": 3,
   "id": "2ccf567a",
   "metadata": {},
   "outputs": [
    {
     "data": {
      "text/plain": [
       "[1, 4, 9, 16]"
      ]
     },
     "execution_count": 3,
     "metadata": {},
     "output_type": "execute_result"
    }
   ],
   "source": [
    "number = [1,2,3,4]\n",
    "\n",
    "list(map(sqaure,number))"
   ]
  },
  {
   "cell_type": "code",
   "execution_count": 4,
   "id": "6d69657a",
   "metadata": {},
   "outputs": [
    {
     "data": {
      "text/plain": [
       "[1, 4, 9, 16]"
      ]
     },
     "execution_count": 4,
     "metadata": {},
     "output_type": "execute_result"
    }
   ],
   "source": [
    "# Lambda with map funtions\n",
    "\n",
    "list(map(lambda num:num*num,number))"
   ]
  },
  {
   "cell_type": "code",
   "execution_count": 5,
   "id": "b20121df",
   "metadata": {},
   "outputs": [
    {
     "name": "stdout",
     "output_type": "stream",
     "text": [
      "[8, 10, 12]\n"
     ]
    }
   ],
   "source": [
    "# Map Multiple Iterables\n",
    "\n",
    "number1=[1,2,3]\n",
    "number2=[7,8,9]\n",
    "\n",
    "added = list(map(lambda a,b:a+b,number1,number2))\n",
    "print(added)"
   ]
  },
  {
   "cell_type": "code",
   "execution_count": 6,
   "id": "01bce8aa",
   "metadata": {},
   "outputs": [
    {
     "data": {
      "text/plain": [
       "['Pratyaksh', 'Soham']"
      ]
     },
     "execution_count": 6,
     "metadata": {},
     "output_type": "execute_result"
    }
   ],
   "source": [
    "def get_name(person):\n",
    "    return person['name']\n",
    "\n",
    "people=[\n",
    "    {\"name\":\"Pratyaksh\", \"age\":22, \"city\": \"Delhi\"},\n",
    "    {\"name\":\"Soham\", \"age\":24, \"city\": \"Kolkata\"},\n",
    "]\n",
    "\n",
    "list(map(get_name,people))"
   ]
  },
  {
   "cell_type": "code",
   "execution_count": null,
   "id": "62ec3b40",
   "metadata": {},
   "outputs": [],
   "source": []
  }
 ],
 "metadata": {
  "kernelspec": {
   "display_name": "Python 3",
   "language": "python",
   "name": "python3"
  },
  "language_info": {
   "codemirror_mode": {
    "name": "ipython",
    "version": 3
   },
   "file_extension": ".py",
   "mimetype": "text/x-python",
   "name": "python",
   "nbconvert_exporter": "python",
   "pygments_lexer": "ipython3",
   "version": "3.13.5"
  }
 },
 "nbformat": 4,
 "nbformat_minor": 5
}
