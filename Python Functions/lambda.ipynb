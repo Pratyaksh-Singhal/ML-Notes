{
 "cells": [
  {
   "cell_type": "markdown",
   "id": "8f9b6cca",
   "metadata": {},
   "source": [
    "### Lambda Function\n",
    "It is small anonymous function which is can of multiple arguments but single expression. Used for Short Operations"
   ]
  },
  {
   "cell_type": "code",
   "execution_count": null,
   "id": "5c477cd6",
   "metadata": {},
   "outputs": [],
   "source": [
    "# Syntax\n",
    "\n",
    "lambda argument:expression"
   ]
  },
  {
   "cell_type": "code",
   "execution_count": 1,
   "id": "022be732",
   "metadata": {},
   "outputs": [
    {
     "data": {
      "text/plain": [
       "function"
      ]
     },
     "execution_count": 1,
     "metadata": {},
     "output_type": "execute_result"
    }
   ],
   "source": [
    "add = lambda a,b:a+b\n",
    "type(add)"
   ]
  },
  {
   "cell_type": "code",
   "execution_count": 2,
   "id": "a0176db5",
   "metadata": {},
   "outputs": [
    {
     "name": "stdout",
     "output_type": "stream",
     "text": [
      "6\n"
     ]
    }
   ],
   "source": [
    "print(add(6,0))"
   ]
  },
  {
   "cell_type": "code",
   "execution_count": 4,
   "id": "6ef41340",
   "metadata": {},
   "outputs": [
    {
     "name": "stdout",
     "output_type": "stream",
     "text": [
      "False\n",
      "True\n"
     ]
    }
   ],
   "source": [
    "check = lambda num:num%2==0\n",
    "\n",
    "print(check(5))\n",
    "print(check(8))"
   ]
  }
 ],
 "metadata": {
  "kernelspec": {
   "display_name": "Python 3",
   "language": "python",
   "name": "python3"
  },
  "language_info": {
   "codemirror_mode": {
    "name": "ipython",
    "version": 3
   },
   "file_extension": ".py",
   "mimetype": "text/x-python",
   "name": "python",
   "nbconvert_exporter": "python",
   "pygments_lexer": "ipython3",
   "version": "3.13.5"
  }
 },
 "nbformat": 4,
 "nbformat_minor": 5
}
