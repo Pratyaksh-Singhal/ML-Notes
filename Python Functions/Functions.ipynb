{
 "cells": [
  {
   "cell_type": "markdown",
   "id": "916cd765",
   "metadata": {},
   "source": [
    "### Functions in Python\n",
    "\n",
    "Funtions is a block of code that perform specific task. It helps in organising the code, reusing code and improve readability of the code."
   ]
  },
  {
   "cell_type": "code",
   "execution_count": null,
   "id": "b8d599e9",
   "metadata": {},
   "outputs": [],
   "source": [
    "def funtion_name(parameter):\n",
    "    '''Write the task or program this fucntion will perform'''\n",
    "    return result"
   ]
  },
  {
   "cell_type": "markdown",
   "id": "54a98ad3",
   "metadata": {},
   "source": [
    "### Write a code for odd and even"
   ]
  },
  {
   "cell_type": "code",
   "execution_count": 1,
   "id": "1ded28b2",
   "metadata": {},
   "outputs": [
    {
     "name": "stdout",
     "output_type": "stream",
     "text": [
      "Even\n"
     ]
    }
   ],
   "source": [
    "def even_or_odd(num):\n",
    "    if num%2==0:\n",
    "        return \"Even\"           # We can also write print(\"Even\") \n",
    "    else:\n",
    "        return \"Odd\"            # We can also write print(\"odd\")\n",
    "    \n",
    "    return\n",
    "\n",
    "num = 6\n",
    "print(even_or_odd(num))"
   ]
  },
  {
   "cell_type": "code",
   "execution_count": 3,
   "id": "3d0b9e97",
   "metadata": {},
   "outputs": [
    {
     "name": "stdout",
     "output_type": "stream",
     "text": [
      "11\n"
     ]
    }
   ],
   "source": [
    "def add(a,b):\n",
    "    return a+b\n",
    "\n",
    "a=5\n",
    "b=6\n",
    "print(add(a,b))"
   ]
  },
  {
   "cell_type": "code",
   "execution_count": null,
   "id": "449702dc",
   "metadata": {},
   "outputs": [
    {
     "name": "stdout",
     "output_type": "stream",
     "text": [
      "My name is Pratyaksh\n"
     ]
    }
   ],
   "source": [
    "def name(str):\n",
    "    return f\"My name is {str}\"               # This is called f-string.\n",
    "\n",
    "str=\"Pratyaksh\"\n",
    "print(name(str))"
   ]
  },
  {
   "cell_type": "markdown",
   "id": "bcd9db86",
   "metadata": {},
   "source": [
    "### Variable length argument\n",
    "Positional and keywords Arguments\n"
   ]
  },
  {
   "cell_type": "code",
   "execution_count": null,
   "id": "d7d74073",
   "metadata": {},
   "outputs": [],
   "source": [
    "\n",
    "#Positional Arguments\n",
    "\n",
    "def print_num(*args):\n",
    "    for i in args:\n",
    "        print(i)                     #We can use any other variable instead of args like *nums but we use it for because of global acceptance."
   ]
  },
  {
   "cell_type": "code",
   "execution_count": 6,
   "id": "db8e825a",
   "metadata": {},
   "outputs": [
    {
     "name": "stdout",
     "output_type": "stream",
     "text": [
      "1\n",
      "2\n",
      "3\n",
      "4\n",
      "5\n",
      "6\n",
      "Pratyaksh\n"
     ]
    }
   ],
   "source": [
    "print_num(1,2,3,4,5,6,\"Pratyaksh\")"
   ]
  },
  {
   "cell_type": "code",
   "execution_count": 10,
   "id": "b5b6e7ad",
   "metadata": {},
   "outputs": [],
   "source": [
    "#Keyword Arguments\n",
    "\n",
    "def print_key(**kwargs):\n",
    "    for key,value in kwargs.items():\n",
    "        print(f\"{key}:{value}\")\n"
   ]
  },
  {
   "cell_type": "code",
   "execution_count": 11,
   "id": "94e9c329",
   "metadata": {},
   "outputs": [
    {
     "name": "stdout",
     "output_type": "stream",
     "text": [
      "name:Pratyaksh\n",
      "age:33\n",
      "country:America\n"
     ]
    }
   ],
   "source": [
    "print_key(name=\"Pratyaksh\",age=\"33\",country=\"America\")"
   ]
  },
  {
   "cell_type": "code",
   "execution_count": null,
   "id": "f1006c1b",
   "metadata": {},
   "outputs": [],
   "source": [
    "def print_detail(*args,**kwargs):\n",
    "    for i in args:\n",
    "        print(f\"positional:{i}\")   \n",
    "\n",
    "    for key,value in kwargs.items():\n",
    "        print(f\"{key}:{value}\")\n",
    "    "
   ]
  },
  {
   "cell_type": "code",
   "execution_count": 13,
   "id": "a9e4dbb1",
   "metadata": {},
   "outputs": [
    {
     "name": "stdout",
     "output_type": "stream",
     "text": [
      "positional:1\n",
      "positional:2\n",
      "positional:3\n",
      "positional:4\n",
      "positional:5\n",
      "positional:6\n",
      "positional:Pratyaksh\n",
      "name:Pratyaksh\n",
      "age:33\n",
      "country:America\n"
     ]
    }
   ],
   "source": [
    "print_detail(1,2,3,4,5,6,\"Pratyaksh\",name=\"Pratyaksh\",age=\"33\",country=\"America\")"
   ]
  },
  {
   "cell_type": "code",
   "execution_count": null,
   "id": "6b188b93",
   "metadata": {},
   "outputs": [],
   "source": []
  }
 ],
 "metadata": {
  "kernelspec": {
   "display_name": "Python 3",
   "language": "python",
   "name": "python3"
  },
  "language_info": {
   "codemirror_mode": {
    "name": "ipython",
    "version": 3
   },
   "file_extension": ".py",
   "mimetype": "text/x-python",
   "name": "python",
   "nbconvert_exporter": "python",
   "pygments_lexer": "ipython3",
   "version": "3.13.5"
  }
 },
 "nbformat": 4,
 "nbformat_minor": 5
}
