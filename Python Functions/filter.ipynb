{
 "cells": [
  {
   "cell_type": "markdown",
   "id": "01c2c26c",
   "metadata": {},
   "source": [
    "### Filter Function\n"
   ]
  },
  {
   "cell_type": "code",
   "execution_count": 1,
   "id": "d8f16b2e",
   "metadata": {},
   "outputs": [
    {
     "data": {
      "text/plain": [
       "True"
      ]
     },
     "execution_count": 1,
     "metadata": {},
     "output_type": "execute_result"
    }
   ],
   "source": [
    "def even(num):\n",
    "    if num%2==0:\n",
    "        return True\n",
    "\n",
    "even(24)"
   ]
  },
  {
   "cell_type": "code",
   "execution_count": 2,
   "id": "f6930545",
   "metadata": {},
   "outputs": [
    {
     "data": {
      "text/plain": [
       "[12, 54, 6]"
      ]
     },
     "execution_count": 2,
     "metadata": {},
     "output_type": "execute_result"
    }
   ],
   "source": [
    "a=[12,13,54,1,5,6]\n",
    "\n",
    "list(filter(even,a))"
   ]
  },
  {
   "cell_type": "code",
   "execution_count": 10,
   "id": "91ce0d4c",
   "metadata": {},
   "outputs": [
    {
     "data": {
      "text/plain": [
       "[12, 13, 54, 6, 73, 79, 21, 22, 28]"
      ]
     },
     "execution_count": 10,
     "metadata": {},
     "output_type": "execute_result"
    }
   ],
   "source": [
    "b=[12,13,54,1,5,6,3,2,73,79,21,22,28]\n",
    "\n",
    "list(filter(lambda x:x>5,b))            #Lambda & Filter Function"
   ]
  },
  {
   "cell_type": "code",
   "execution_count": 12,
   "id": "73ef6327",
   "metadata": {},
   "outputs": [
    {
     "data": {
      "text/plain": [
       "[12, 13, 6, 21, 22, 28]"
      ]
     },
     "execution_count": 12,
     "metadata": {},
     "output_type": "execute_result"
    }
   ],
   "source": [
    "#Filter Function with Mutliple Conditons\n",
    "\n",
    "list(filter(lambda x:x>5 and x%2==0, b))\n",
    "list(filter(lambda x:x>5 and x<30, b))\n",
    "\n"
   ]
  },
  {
   "cell_type": "code",
   "execution_count": 14,
   "id": "96899d2e",
   "metadata": {},
   "outputs": [
    {
     "data": {
      "text/plain": [
       "[{'name': 'Soham', 'age': 24, 'city': 'Kolkata'},\n",
       " {'name': 'Ashu', 'age': 29, 'city': 'Noida'}]"
      ]
     },
     "execution_count": 14,
     "metadata": {},
     "output_type": "execute_result"
    }
   ],
   "source": [
    "def age_check(person):\n",
    "    return person['age']>=24\n",
    "\n",
    "people=[\n",
    "    {\"name\":\"Pratyaksh\", \"age\":22, \"city\": \"Delhi\"},\n",
    "    {\"name\":\"Soham\", \"age\":24, \"city\": \"Kolkata\"},\n",
    "    {\"name\":\"Ashu\", \"age\":29, \"city\": \"Noida\"}\n",
    "\n",
    "]\n",
    "\n",
    "list(filter(age_check,people))"
   ]
  },
  {
   "cell_type": "code",
   "execution_count": null,
   "id": "e1ff74f2",
   "metadata": {},
   "outputs": [],
   "source": []
  }
 ],
 "metadata": {
  "kernelspec": {
   "display_name": "Python 3",
   "language": "python",
   "name": "python3"
  },
  "language_info": {
   "codemirror_mode": {
    "name": "ipython",
    "version": 3
   },
   "file_extension": ".py",
   "mimetype": "text/x-python",
   "name": "python",
   "nbconvert_exporter": "python",
   "pygments_lexer": "ipython3",
   "version": "3.13.5"
  }
 },
 "nbformat": 4,
 "nbformat_minor": 5
}
