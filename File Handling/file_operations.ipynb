{
 "cells": [
  {
   "cell_type": "markdown",
   "id": "b794351f",
   "metadata": {},
   "source": [
    "### Working with files"
   ]
  },
  {
   "cell_type": "code",
   "execution_count": null,
   "id": "2f851e07",
   "metadata": {},
   "outputs": [
    {
     "name": "stdout",
     "output_type": "stream",
     "text": [
      "Hello World\n"
     ]
    }
   ],
   "source": [
    "# Reading content from the file\n",
    "\n",
    "with open('example.txt','r') as file:\n",
    "    content = file.read()\n",
    "    print(content)"
   ]
  },
  {
   "cell_type": "code",
   "execution_count": null,
   "id": "01ece300",
   "metadata": {},
   "outputs": [
    {
     "name": "stdout",
     "output_type": "stream",
     "text": [
      "Hello World!\n",
      "\n",
      "How are you!\n",
      "\n",
      "I'm Pratyakh \n",
      "\n",
      "I live in Delhi\n"
     ]
    }
   ],
   "source": [
    "# Read File Line by Line\n",
    "\n",
    "with open('example.txt','r') as files:\n",
    "    for file in files:\n",
    "        print(file)"
   ]
  },
  {
   "cell_type": "code",
   "execution_count": null,
   "id": "60e4c882",
   "metadata": {},
   "outputs": [
    {
     "name": "stdout",
     "output_type": "stream",
     "text": [
      "Hello World!\n",
      "How are you!\n",
      "I'm Pratyakh\n",
      "I live in Delhi\n"
     ]
    }
   ],
   "source": [
    "# strip() remove the new line character\n",
    "\n",
    "with open('example.txt','r') as files:\n",
    "    for file in files:\n",
    "        print(file.strip())"
   ]
  },
  {
   "cell_type": "code",
   "execution_count": null,
   "id": "1d5bcc28",
   "metadata": {},
   "outputs": [],
   "source": [
    "# Writing in the File (Overwriting)\n",
    " \n",
    "with open('example2.txt','w') as file:\n",
    "    file.write(\"Hello World\\n\")\n",
    "    file.write(\"This is new file\")\n"
   ]
  },
  {
   "cell_type": "code",
   "execution_count": null,
   "id": "c66de67b",
   "metadata": {},
   "outputs": [],
   "source": [
    "#Writing in the file without overwriting. (Append)\n",
    "with open('example3.txt','a') as file:\n",
    "    file.write(\"\\nHello World\\n\")\n",
    "    file.write(\"This is new file\")"
   ]
  },
  {
   "cell_type": "code",
   "execution_count": 8,
   "id": "2e1cfa5a",
   "metadata": {},
   "outputs": [],
   "source": [
    "# Writing list of lines\n",
    "lines = ['First Line\\n','Second Line\\n','Third Line\\n']\n",
    "with open(\"example3.txt\",\"a\") as file:\n",
    "\n",
    "    file.writelines(lines)"
   ]
  },
  {
   "cell_type": "code",
   "execution_count": 9,
   "id": "00d4e54a",
   "metadata": {},
   "outputs": [
    {
     "name": "stdout",
     "output_type": "stream",
     "text": [
      "\n",
      "Hello World\n",
      "This is new file\n"
     ]
    }
   ],
   "source": [
    "#Reading and writing the file simulataneously that we can perform both operations. All data in the file will be truncated.\n",
    "\n",
    "with open('example3.txt','w+') as file:\n",
    "    file.write(\"\\nHello World\\n\")\n",
    "    file.write(\"This is new file\")\n",
    "\n",
    "# Now we can read the file without open it in the reading mode\n",
    "# After overwriting the above content cursor will be at the last hence reading will be give nothing but blank hence we need to move the cursor to the start\n",
    "    file.seek(0)\n",
    "    print(file.read())"
   ]
  },
  {
   "cell_type": "markdown",
   "id": "324b1640",
   "metadata": {},
   "source": [
    "### Binary Files\n",
    "It is similar to the normal file. We just have to write \"rb\" (readbyte) instead of \"r\" (read) and \"wb\" (writebyte) instead of \"w\" (write)"
   ]
  },
  {
   "cell_type": "code",
   "execution_count": null,
   "id": "e1552b24",
   "metadata": {},
   "outputs": [],
   "source": [
    "#Binary Files\n",
    "bytecode = b'\\x00\\x01\\x07\\x09'\n",
    "with open('example4.bin','wb') as file:\n",
    "    file.write(bytecode)"
   ]
  },
  {
   "cell_type": "code",
   "execution_count": null,
   "id": "65aa3acb",
   "metadata": {},
   "outputs": [],
   "source": [
    "# Reading content from the binary file\n",
    "\n",
    "with open('example4.bin','rb') as file:\n",
    "    content = file.read()\n",
    "    print(content)"
   ]
  },
  {
   "cell_type": "code",
   "execution_count": null,
   "id": "7b8b43e6",
   "metadata": {},
   "outputs": [],
   "source": []
  }
 ],
 "metadata": {
  "kernelspec": {
   "display_name": "Python 3",
   "language": "python",
   "name": "python3"
  },
  "language_info": {
   "codemirror_mode": {
    "name": "ipython",
    "version": 3
   },
   "file_extension": ".py",
   "mimetype": "text/x-python",
   "name": "python",
   "nbconvert_exporter": "python",
   "pygments_lexer": "ipython3",
   "version": "3.13.5"
  }
 },
 "nbformat": 4,
 "nbformat_minor": 5
}
