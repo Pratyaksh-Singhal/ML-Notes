{
 "cells": [
  {
   "cell_type": "markdown",
   "id": "ec17c36c",
   "metadata": {},
   "source": [
    "### File Paths"
   ]
  },
  {
   "cell_type": "code",
   "execution_count": null,
   "id": "6bff45ef",
   "metadata": {},
   "outputs": [],
   "source": [
    "import os\n",
    "cwd = os.getcwd()\n",
    "print(f\"Current Directory:{cwd}\")"
   ]
  },
  {
   "cell_type": "code",
   "execution_count": null,
   "id": "ba13ce75",
   "metadata": {},
   "outputs": [],
   "source": [
    "new_directory = \"packages\"\n",
    "os.makedirs(new_directory)\n",
    "print(f\"New Directory {new_directory} created \")"
   ]
  },
  {
   "cell_type": "code",
   "execution_count": null,
   "id": "bd110ade",
   "metadata": {},
   "outputs": [],
   "source": [
    "items  = os.listdir('.')\n",
    "print(items)"
   ]
  },
  {
   "cell_type": "code",
   "execution_count": null,
   "id": "b426fc43",
   "metadata": {},
   "outputs": [],
   "source": [
    "# Joining Paths of the file\n",
    "\n",
    "dir_name=\"folder\"\n",
    "file_name=\"file.txt\"\n",
    "full_path=os.path.join(dir_name,file_name)\n",
    "print(full_path)"
   ]
  },
  {
   "cell_type": "code",
   "execution_count": null,
   "id": "236e9c59",
   "metadata": {},
   "outputs": [],
   "source": [
    "dir_name=\"folder\"\n",
    "file_name=\"file.txt\"\n",
    "full_path=os.path.join(os.getcwd(),dir_name,file_name)\n",
    "print(full_path)"
   ]
  }
 ],
 "metadata": {
  "language_info": {
   "name": "python"
  }
 },
 "nbformat": 4,
 "nbformat_minor": 5
}
