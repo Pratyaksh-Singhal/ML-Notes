{
 "cells": [
  {
   "cell_type": "markdown",
   "id": "ca6f3277",
   "metadata": {},
   "source": [
    "#### Creating Virtual Environment in Python (Windows)"
   ]
  },
  {
   "cell_type": "markdown",
   "id": "bd771966",
   "metadata": {},
   "source": [
    "First install the venv module "
   ]
  },
  {
   "cell_type": "code",
   "execution_count": null,
   "id": "5adc1581",
   "metadata": {},
   "outputs": [],
   "source": [
    "pip install venv"
   ]
  },
  {
   "cell_type": "markdown",
   "id": "c72b0103",
   "metadata": {},
   "source": [
    "Write the below command to create a virtual environment"
   ]
  },
  {
   "cell_type": "code",
   "execution_count": null,
   "id": "c39f2472",
   "metadata": {},
   "outputs": [],
   "source": [
    "python -m venv myenv"
   ]
  },
  {
   "cell_type": "markdown",
   "id": "34f36538",
   "metadata": {},
   "source": [
    "To activate the environment write the below command to activate the environment"
   ]
  },
  {
   "cell_type": "code",
   "execution_count": null,
   "id": "ea34f8d7",
   "metadata": {},
   "outputs": [],
   "source": [
    "myenv\\Scripts\\activate"
   ]
  }
 ],
 "metadata": {
  "language_info": {
   "name": "python"
  }
 },
 "nbformat": 4,
 "nbformat_minor": 5
}
